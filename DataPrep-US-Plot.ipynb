{
 "cells": [
  {
   "cell_type": "code",
   "execution_count": 1,
   "metadata": {},
   "outputs": [],
   "source": [
    "# Data analysis and wrangling\n",
    "import pandas as pd\n",
    "import numpy as np\n",
    "import random as rnd\n",
    "\n",
    "# Visualization\n",
    "import matplotlib.pyplot as plt\n",
    "\n",
    "# Machine learning imports\n",
    "from sklearn.linear_model import LogisticRegression\n",
    "from sklearn.svm import SVC, LinearSVC\n",
    "from sklearn.ensemble import RandomForestClassifier\n",
    "from sklearn.neighbors import KNeighborsClassifier\n",
    "from sklearn.tree import DecisionTreeClassifier\n",
    "\n",
    "from sklearn import preprocessing\n",
    "from sklearn.preprocessing import binarize, LabelEncoder, MinMaxScaler\n"
   ]
  },
  {
   "cell_type": "markdown",
   "metadata": {},
   "source": [
    "Initial Analysis of Data\n",
    "\n",
    "1) Clean data.\n",
    "1) Fix Gender column.\n",
    "2) Change the rest to numeric data.\n",
    "3) Determine which respondants are suffering from a mental health issue or not.\n",
    "4) Determine which responses are about the \"culture\" of the organization toward mental health issues.\n",
    "5) Create US and non-US files\n",
    "\n",
    "\n",
    "(1) The gender column must not have had choices.  The catagories will have to be manually defined.\n",
    "\n",
    "(2) This task needs the survey's possible responses.  They can be found here:  ???\n",
    "\n",
    "(3) Determine which respondants are suffering from a mental health issue or not. (From column \"work_interfere\"?)\n",
    "\n",
    "Survey Question: If you have a mental health condition, do you feel that it interferes with your work? (work_interfere)\n",
    "\n",
    "Possible responses: Don't know, Never, Often, Rarely, Sometimes\n",
    "There are also responses of N/A.  We believe a response of N/A means the responder does not feel they are having mental health issues"
   ]
  },
  {
   "cell_type": "code",
   "execution_count": 2,
   "metadata": {},
   "outputs": [
    {
     "name": "stdout",
     "output_type": "stream",
     "text": [
      "(1259, 27)\n",
      "                Age\n",
      "count  1.259000e+03\n",
      "mean   7.942815e+07\n",
      "std    2.818299e+09\n",
      "min   -1.726000e+03\n",
      "25%    2.700000e+01\n",
      "50%    3.100000e+01\n",
      "75%    3.600000e+01\n",
      "max    1.000000e+11\n",
      "<class 'pandas.core.frame.DataFrame'>\n",
      "RangeIndex: 1259 entries, 0 to 1258\n",
      "Data columns (total 27 columns):\n",
      "Timestamp                    1259 non-null object\n",
      "Age                          1259 non-null int64\n",
      "Gender                       1259 non-null object\n",
      "Country                      1259 non-null object\n",
      "state                        744 non-null object\n",
      "self_employed                1241 non-null object\n",
      "family_history               1259 non-null object\n",
      "treatment                    1259 non-null object\n",
      "work_interfere               995 non-null object\n",
      "no_employees                 1259 non-null object\n",
      "remote_work                  1259 non-null object\n",
      "tech_company                 1259 non-null object\n",
      "benefits                     1259 non-null object\n",
      "care_options                 1259 non-null object\n",
      "wellness_program             1259 non-null object\n",
      "seek_help                    1259 non-null object\n",
      "anonymity                    1259 non-null object\n",
      "leave                        1259 non-null object\n",
      "mental_health_consequence    1259 non-null object\n",
      "phys_health_consequence      1259 non-null object\n",
      "coworkers                    1259 non-null object\n",
      "supervisor                   1259 non-null object\n",
      "mental_health_interview      1259 non-null object\n",
      "phys_health_interview        1259 non-null object\n",
      "mental_vs_physical           1259 non-null object\n",
      "obs_consequence              1259 non-null object\n",
      "comments                     164 non-null object\n",
      "dtypes: int64(1), object(26)\n",
      "memory usage: 265.6+ KB\n",
      "None\n"
     ]
    }
   ],
   "source": [
    "# Create the data frame\n",
    "train_df = pd.read_csv('Resources/survey.csv')\n",
    "\n",
    "#Whats the data row count?\n",
    "print(train_df.shape)\n",
    "    \n",
    "#Whats the distribution of the data?\n",
    "print(train_df.describe())\n",
    "    \n",
    "#What types of data\n",
    "print(train_df.info())\n",
    "\n",
    "#train_df.head(20)"
   ]
  },
  {
   "cell_type": "code",
   "execution_count": 3,
   "metadata": {},
   "outputs": [],
   "source": [
    "# Remove timestamp, comments, and state (for now)\n",
    "train_df = train_df.drop(['Timestamp', 'state', 'comments'], axis=1)"
   ]
  },
  {
   "cell_type": "code",
   "execution_count": 4,
   "metadata": {},
   "outputs": [],
   "source": [
    "# Split out US and non-US\n",
    "train_us_df = train_df.loc[train_df['Country'] == \"United States\"].copy()\n",
    "train_not_us_df = train_df.loc[train_df['Country'] != \"United States\"].copy()\n"
   ]
  },
  {
   "cell_type": "code",
   "execution_count": 5,
   "metadata": {},
   "outputs": [],
   "source": [
    "# Clean NaNs\n",
    "\n",
    "# Assign default values for each data type\n",
    "defaultInt = 0\n",
    "defaultString = 'NaN'\n",
    "defaultFloat = 0.0\n",
    "\n",
    "# Create lists by data tpe\n",
    "intFeatures = ['Age']\n",
    "stringFeatures = ['Gender', 'Country', 'self_employed', 'family_history', 'treatment', 'work_interfere',\n",
    "                 'no_employees', 'remote_work', 'tech_company', 'anonymity', 'leave', 'mental_health_consequence',\n",
    "                 'phys_health_consequence', 'coworkers', 'supervisor', 'mental_health_interview', 'phys_health_interview',\n",
    "                 'mental_vs_physical', 'obs_consequence', 'benefits', 'care_options', 'wellness_program',\n",
    "                 'seek_help']\n",
    "floatFeatures = []\n",
    "\n",
    "# Clean the NaN's\n",
    "for feature in train_us_df:\n",
    "    if feature in intFeatures:\n",
    "        train_us_df[feature] = train_us_df[feature].fillna(defaultInt)\n",
    "    elif feature in stringFeatures:\n",
    "        train_us_df[feature] = train_us_df[feature].fillna(defaultString)\n",
    "    elif feature in floatFeatures:\n",
    "        train_us_df[feature] = train_us_df[feature].fillna(defaultFloat)\n",
    "    else:\n",
    "        print('Error: Feature %s not recognized.' % feature)\n",
    "\n",
    "#train_us_df.head(5)\n"
   ]
  },
  {
   "cell_type": "code",
   "execution_count": 6,
   "metadata": {},
   "outputs": [],
   "source": [
    "# Clean gender data\n",
    "train_us_df['Gender'] = train_us_df['Gender'].str.lower()\n",
    "\n",
    "# get the unique values for Gender\n",
    "gender_strings = train_us_df['Gender'].unique().tolist()\n",
    "\n",
    "# Create 4 gender options (Female, Male, Trans, GenderNonConforming)\n",
    "# Make gender groups\n",
    "male_str = [\"male\", \"m\", \"maile\", \"mal\", \"male (cis)\", \"make\", \"male \", \"man\", \"msle\", \"mail\",\n",
    "            \"malr\", \"cis man\", \"Cis Male\", \"cis male\"]\n",
    "trans_str = [\"trans-female\", \"trans woman\", \"female (trans)\"]           \n",
    "female_str = [\"cis female\", \"f\", \"female\", \"woman\",  \"femake\", \"female \",\"cis-female/femme\", \"female (cis)\",\n",
    "              \"femail\"]\n",
    "nc_str = [\"male-ish\", \"enby\", \"nah\", \"all\", \"queer/she/they\", \"non-binary\", \"something kinda male?\", \"fluid\", \"genderqueer\",\n",
    "             \"androgyne\", \"agender\", \"male leaning androgynous\", \"guy (-ish) ^_^\", \"neuter\", \"queer\",\n",
    "             \"ostensibly male, unsure what that really means\"]\n",
    "\n",
    "# Create new gender values\n",
    "for (row, col) in train_us_df.iterrows():\n",
    "\n",
    "    if str.lower(col.Gender) in male_str:\n",
    "        train_us_df['Gender'].replace(to_replace=col.Gender, value='male', inplace=True)\n",
    "\n",
    "    if str.lower(col.Gender) in female_str:\n",
    "        train_us_df['Gender'].replace(to_replace=col.Gender, value='female', inplace=True)\n",
    "\n",
    "    if str.lower(col.Gender) in trans_str:\n",
    "        train_us_df['Gender'].replace(to_replace=col.Gender, value='trans', inplace=True)\n",
    "\n",
    "    if str.lower(col.Gender) in nc_str:\n",
    "        train_us_df['Gender'].replace(to_replace=col.Gender, value='gen_nc', inplace=True)\n",
    "\n",
    "# Remove the ones that don't make any sense\n",
    "weird_list = ['a little about you', 'p']\n",
    "train_us_df = train_us_df[~train_us_df['Gender'].str.lower().isin(weird_list)]\n",
    "#train_us_df.head(20)\n"
   ]
  },
  {
   "cell_type": "code",
   "execution_count": 7,
   "metadata": {},
   "outputs": [],
   "source": [
    "# Update missing Age with mean Age\n",
    "train_us_df['Age'].fillna(train_us_df['Age'].median(), inplace = True)\n",
    "\n",
    "# Fill with media() values < 18 and > 90\n",
    "s = pd.Series(train_us_df['Age'])\n",
    "s[s<18] = train_us_df['Age'].median()\n",
    "train_us_df['Age'] = s\n",
    "s = pd.Series(train_us_df['Age'])\n",
    "s[s>90] = train_us_df['Age'].median()\n",
    "train_us_df['Age'] = s\n",
    "\n",
    "#Ranges of Age\n",
    "train_us_df['age_range'] = pd.cut(train_us_df['Age'], [0,20,30,40,50,60,90], labels=[\"0-20\", \"20-30\", \"30-40\", \"40-50\", \"50-60\", \"60-90\"], include_lowest=True)\n",
    "#train_us_df.head(30)\n"
   ]
  },
  {
   "cell_type": "code",
   "execution_count": 8,
   "metadata": {},
   "outputs": [],
   "source": [
    "#There are only 0.014% of self employed so let's change NaN to NOT self_employed\n",
    "#Replace \"NaN\" string from defaultString\n",
    "train_us_df['self_employed'] = train_us_df['self_employed'].replace([defaultString], 'No')\n",
    "#train_us_df.head(10)\n"
   ]
  },
  {
   "cell_type": "code",
   "execution_count": 9,
   "metadata": {},
   "outputs": [],
   "source": [
    "# Output the cleaned us dataframe and not cleaned not us dataframe to a new files\n",
    "train_us_df.to_csv('Resources/us_plot.csv')\n",
    "#train_not_us_df.to_csv('Resources/not_us.csv')"
   ]
  },
  {
   "cell_type": "code",
   "execution_count": null,
   "metadata": {},
   "outputs": [],
   "source": []
  }
 ],
 "metadata": {
  "kernelspec": {
   "display_name": "Python 3",
   "language": "python",
   "name": "python3"
  },
  "language_info": {
   "codemirror_mode": {
    "name": "ipython",
    "version": 3
   },
   "file_extension": ".py",
   "mimetype": "text/x-python",
   "name": "python",
   "nbconvert_exporter": "python",
   "pygments_lexer": "ipython3",
   "version": "3.6.6"
  }
 },
 "nbformat": 4,
 "nbformat_minor": 2
}
