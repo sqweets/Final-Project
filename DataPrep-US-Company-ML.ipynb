{
 "cells": [
  {
   "cell_type": "code",
   "execution_count": 1,
   "metadata": {},
   "outputs": [],
   "source": [
    "# Data analysis and wrangling\n",
    "import pandas as pd\n",
    "import numpy as np\n",
    "import random as rnd\n",
    "\n",
    "# Visualization\n",
    "import matplotlib.pyplot as plt\n",
    "\n",
    "# Machine learning imports\n",
    "from sklearn.linear_model import LogisticRegression\n",
    "from sklearn.svm import SVC, LinearSVC\n",
    "from sklearn.ensemble import RandomForestClassifier\n",
    "from sklearn.neighbors import KNeighborsClassifier\n",
    "from sklearn.tree import DecisionTreeClassifier\n",
    "\n",
    "from sklearn import preprocessing\n",
    "from sklearn.preprocessing import binarize, LabelEncoder, MinMaxScaler\n"
   ]
  },
  {
   "cell_type": "code",
   "execution_count": 2,
   "metadata": {},
   "outputs": [
    {
     "name": "stdout",
     "output_type": "stream",
     "text": [
      "(1259, 27)\n",
      "                Age\n",
      "count  1.259000e+03\n",
      "mean   7.942815e+07\n",
      "std    2.818299e+09\n",
      "min   -1.726000e+03\n",
      "25%    2.700000e+01\n",
      "50%    3.100000e+01\n",
      "75%    3.600000e+01\n",
      "max    1.000000e+11\n",
      "<class 'pandas.core.frame.DataFrame'>\n",
      "RangeIndex: 1259 entries, 0 to 1258\n",
      "Data columns (total 27 columns):\n",
      "Timestamp                    1259 non-null object\n",
      "Age                          1259 non-null int64\n",
      "Gender                       1259 non-null object\n",
      "Country                      1259 non-null object\n",
      "state                        744 non-null object\n",
      "self_employed                1241 non-null object\n",
      "family_history               1259 non-null object\n",
      "treatment                    1259 non-null object\n",
      "work_interfere               995 non-null object\n",
      "no_employees                 1259 non-null object\n",
      "remote_work                  1259 non-null object\n",
      "tech_company                 1259 non-null object\n",
      "benefits                     1259 non-null object\n",
      "care_options                 1259 non-null object\n",
      "wellness_program             1259 non-null object\n",
      "seek_help                    1259 non-null object\n",
      "anonymity                    1259 non-null object\n",
      "leave                        1259 non-null object\n",
      "mental_health_consequence    1259 non-null object\n",
      "phys_health_consequence      1259 non-null object\n",
      "coworkers                    1259 non-null object\n",
      "supervisor                   1259 non-null object\n",
      "mental_health_interview      1259 non-null object\n",
      "phys_health_interview        1259 non-null object\n",
      "mental_vs_physical           1259 non-null object\n",
      "obs_consequence              1259 non-null object\n",
      "comments                     164 non-null object\n",
      "dtypes: int64(1), object(26)\n",
      "memory usage: 265.6+ KB\n",
      "None\n"
     ]
    }
   ],
   "source": [
    "# Create the data frame\n",
    "train_df = pd.read_csv('Resources/survey.csv')\n",
    "\n",
    "#Whats the data row count?\n",
    "print(train_df.shape)\n",
    "    \n",
    "#Whats the distribution of the data?\n",
    "print(train_df.describe())\n",
    "    \n",
    "#What types of data\n",
    "print(train_df.info())\n",
    "\n",
    "#train_df.head(20)"
   ]
  },
  {
   "cell_type": "code",
   "execution_count": 3,
   "metadata": {},
   "outputs": [],
   "source": [
    "# # Split out US and non-US\n",
    "train_df = train_df.loc[train_df['Country'] == \"United States\"].copy()\n"
   ]
  },
  {
   "cell_type": "code",
   "execution_count": 4,
   "metadata": {},
   "outputs": [],
   "source": [
    "# Remove everything that a company doesn't have control over, or doesn't really apply\n",
    "train_df = train_df.drop(['Timestamp', 'Age', 'state', 'comments', 'Country', 'state', 'Gender', 'self_employed',\n",
    "                          'family_history', 'work_interfere', 'no_employees', 'remote_work', 'tech_company', \n",
    "                          'phys_health_consequence', 'mental_health_interview', 'phys_health_interview',\n",
    "                          'comments'], axis=1)"
   ]
  },
  {
   "cell_type": "code",
   "execution_count": 5,
   "metadata": {},
   "outputs": [],
   "source": [
    "# Clean NaNs\n",
    "\n",
    "# Assign default values for each data type\n",
    "defaultString = 'NaN'\n",
    "\n",
    "# Create lists by data tpe\n",
    "stringFeatures = ['treatment', 'anonymity', 'leave', 'mental_health_consequence', 'coworkers', 'supervisor',\n",
    "                 'mental_vs_physical', 'obs_consequence', 'benefits', 'care_options', 'wellness_program',\n",
    "                 'seek_help']\n",
    "\n",
    "# Clean the NaN's\n",
    "for feature in train_df:\n",
    "    train_df[feature] = train_df[feature].fillna(defaultString)\n",
    "\n",
    "#train_df.head(5)\n"
   ]
  },
  {
   "cell_type": "code",
   "execution_count": 6,
   "metadata": {},
   "outputs": [
    {
     "name": "stdout",
     "output_type": "stream",
     "text": [
      "label_treatment ['No', 'Yes']\n",
      "label_benefits [\"Don't know\", 'No', 'Yes']\n",
      "label_care_options ['No', 'Not sure', 'Yes']\n",
      "label_wellness_program [\"Don't know\", 'No', 'Yes']\n",
      "label_seek_help [\"Don't know\", 'No', 'Yes']\n",
      "label_anonymity [\"Don't know\", 'No', 'Yes']\n",
      "label_leave [\"Don't know\", 'Somewhat difficult', 'Somewhat easy', 'Very difficult', 'Very easy']\n",
      "label_mental_health_consequence ['Maybe', 'No', 'Yes']\n",
      "label_coworkers ['No', 'Some of them', 'Yes']\n",
      "label_supervisor ['No', 'Some of them', 'Yes']\n",
      "label_mental_vs_physical [\"Don't know\", 'No', 'Yes']\n",
      "label_obs_consequence ['No', 'Yes']\n"
     ]
    }
   ],
   "source": [
    "# Encoding data\n",
    "\n",
    "# Change string responses to numerical values\n",
    "labelDict = {}\n",
    "for feature in train_df:\n",
    "    le = preprocessing.LabelEncoder()\n",
    "    le.fit(train_df[feature])\n",
    "    le_name_mapping = dict(zip(le.classes_, le.transform(le.classes_)))\n",
    "    train_df[feature] = le.transform(train_df[feature])\n",
    "    # Get labels\n",
    "    labelKey = 'label_' + feature\n",
    "    labelValue = [*le_name_mapping]\n",
    "    labelDict[labelKey] = labelValue\n",
    "    \n",
    "for key, value in labelDict.items():     \n",
    "    print(key, value)\n"
   ]
  },
  {
   "cell_type": "code",
   "execution_count": 7,
   "metadata": {},
   "outputs": [],
   "source": [
    "# Output the cleaned us dataframe and not cleaned not us dataframe to a new files\n",
    "train_df.to_csv('Resources/us-company-ml.csv')\n"
   ]
  },
  {
   "cell_type": "code",
   "execution_count": null,
   "metadata": {},
   "outputs": [],
   "source": []
  }
 ],
 "metadata": {
  "kernelspec": {
   "display_name": "Python 3",
   "language": "python",
   "name": "python3"
  },
  "language_info": {
   "codemirror_mode": {
    "name": "ipython",
    "version": 3
   },
   "file_extension": ".py",
   "mimetype": "text/x-python",
   "name": "python",
   "nbconvert_exporter": "python",
   "pygments_lexer": "ipython3",
   "version": "3.6.6"
  }
 },
 "nbformat": 4,
 "nbformat_minor": 2
}
